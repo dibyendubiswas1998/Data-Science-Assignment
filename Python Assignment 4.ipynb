{
 "cells": [
  {
   "cell_type": "markdown",
   "metadata": {},
   "source": [
    "# Python Assignment 4"
   ]
  },
  {
   "cell_type": "code",
   "execution_count": 1,
   "metadata": {},
   "outputs": [
    {
     "name": "stdout",
     "output_type": "stream",
     "text": [
      "Are of triangle is: (2.5717582782094417e-15+42j)\n"
     ]
    }
   ],
   "source": [
    "# Q.1.1  Write a Python Program(with class concepts) to find the area of the triangle using the below \n",
    "#        formula. area = (s(s-a)(s-b)(s-c)) * 0.5 Function to take the length of the sides of triangle\n",
    "#        from user should be defined in the parent class and function to calculate the area should be \n",
    "#        defined in subclass.\n",
    "\n",
    "\n",
    "class user_input:\n",
    "    def __init__(self, a, b, c):\n",
    "        self.a = a\n",
    "        self.b = b\n",
    "        self.c = c\n",
    "    def declare(self):\n",
    "        print(f\"Three sides of triange is: {self.a, self.b, self.c}\")\n",
    "        \n",
    "        \n",
    "class calculate(user_input):\n",
    "    def __init__(self, *args):\n",
    "        super(calculate, self).__init__(*args)\n",
    "        self.s = self.a + self.b + self.c\n",
    "   \n",
    "    def declare1(self):\n",
    "        s = self.s /2\n",
    "        a = self.a\n",
    "        b = self.b\n",
    "        c = self.c\n",
    "        Area = (s*(s-a)*(s-b)*(s-c)) ** 0.5\n",
    "        print(f\"Are of triangle is: {Area}\")\n",
    "        \n",
    "        \n",
    "U = calculate(5, 7, 16)\n",
    "U.declare1()"
   ]
  },
  {
   "cell_type": "code",
   "execution_count": 2,
   "metadata": {},
   "outputs": [
    {
     "name": "stdout",
     "output_type": "stream",
     "text": [
      "['Dibyendu', 'Biswas', 'live', 'Siliguri']\n"
     ]
    }
   ],
   "source": [
    "# Q.1.2  Write a function filter_long_words() that takes a list of words and an integer n and returns\n",
    "#       the list of words that are longer than n.\n",
    "\n",
    "\n",
    "def long_words(n, string):  \n",
    "    word_len = []  \n",
    "    txt = string.split(\" \")  \n",
    "    for x in txt:  \n",
    "        if len(x) > n:  \n",
    "            word_len.append(x)  \n",
    "    return word_len   \n",
    "\n",
    "print(long_words(3, \"Hi I am Dibyendu Biswas live in Siliguri\"))  "
   ]
  },
  {
   "cell_type": "code",
   "execution_count": 3,
   "metadata": {},
   "outputs": [
    {
     "name": "stdout",
     "output_type": "stream",
     "text": [
      "['ab', 'cde', 'erty', 'Dibyendu', 2220, '20', 'Biswas']\n",
      "[2, 3, 4, 8, 4, 2, 6]\n"
     ]
    }
   ],
   "source": [
    "# 2.1   Write a Python program using function concept that maps list of words into a list of integers\n",
    "#       representing the lengths of the corresponding words.\n",
    "\n",
    "def Func(a):\n",
    "    List = []\n",
    "    for i in a:\n",
    "        List.append(len(str(i)))\n",
    "    print(a)\n",
    "    print(List)\n",
    "\n",
    "Func(['ab', 'cde', 'erty', 'Dibyendu', 2220, '20', 'Biswas'])"
   ]
  },
  {
   "cell_type": "code",
   "execution_count": 4,
   "metadata": {},
   "outputs": [
    {
     "name": "stdout",
     "output_type": "stream",
     "text": [
      "False\n",
      "True\n",
      "True\n"
     ]
    }
   ],
   "source": [
    "# Q.2.2  Write a Python function which takes a character (i.e. a string of length 1) and returns True if\n",
    "#        it is a vowel, False otherwise.\n",
    "\n",
    "def Vowel(char):\n",
    "    if char in 'aeiouAEIOU':\n",
    "        return True\n",
    "    else:\n",
    "        return False\n",
    "\n",
    "print(Vowel('c'))\n",
    "print(Vowel('e'))\n",
    "print(Vowel('A'))"
   ]
  },
  {
   "cell_type": "code",
   "execution_count": null,
   "metadata": {},
   "outputs": [],
   "source": []
  }
 ],
 "metadata": {
  "kernelspec": {
   "display_name": "Python 3",
   "language": "python",
   "name": "python3"
  },
  "language_info": {
   "codemirror_mode": {
    "name": "ipython",
    "version": 3
   },
   "file_extension": ".py",
   "mimetype": "text/x-python",
   "name": "python",
   "nbconvert_exporter": "python",
   "pygments_lexer": "ipython3",
   "version": "3.7.6"
  }
 },
 "nbformat": 4,
 "nbformat_minor": 4
}
