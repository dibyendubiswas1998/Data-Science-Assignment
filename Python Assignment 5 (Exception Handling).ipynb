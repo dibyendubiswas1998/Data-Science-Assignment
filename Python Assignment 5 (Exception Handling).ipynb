{
 "cells": [
  {
   "cell_type": "markdown",
   "metadata": {},
   "source": [
    "\n",
    "# Exception handling Assignment"
   ]
  },
  {
   "cell_type": "code",
   "execution_count": 3,
   "metadata": {},
   "outputs": [
    {
     "name": "stdout",
     "output_type": "stream",
     "text": [
      "Enter any Integer: 100\n",
      "Enter Integer: 0\n",
      "Error is:  division by zero\n"
     ]
    }
   ],
   "source": [
    "# Q.1. Write a function to compute 5/0 and use try/except to catch the exceptions.\n",
    "\n",
    "\n",
    "def numbers():\n",
    "    try:\n",
    "        a = int(input('Enter any Integer: '))\n",
    "        b = int(input('Enter Integer: '))\n",
    "        try:\n",
    "            s = a / b\n",
    "            print('Division value is: ', s)\n",
    "        \n",
    "        except Exception as e:\n",
    "            print('Error is: ', e)   \n",
    "                \n",
    "            \n",
    "    except Exception as e:\n",
    "        print('Error is: ', e)\n",
    "           \n",
    "numbers()"
   ]
  },
  {
   "cell_type": "code",
   "execution_count": 4,
   "metadata": {},
   "outputs": [
    {
     "name": "stdout",
     "output_type": "stream",
     "text": [
      "Enter any Integer: 100\n",
      "Enter Integer: 20\n",
      "Division value is:  5.0\n"
     ]
    }
   ],
   "source": [
    "numbers()"
   ]
  },
  {
   "cell_type": "code",
   "execution_count": 5,
   "metadata": {},
   "outputs": [
    {
     "name": "stdout",
     "output_type": "stream",
     "text": [
      "Americans  play Baseball\n",
      "Americans  play Cricket\n",
      "Americans  watch Baseball\n",
      "Americans  watch Cricket\n",
      "Indians play Baseball\n",
      "Indians play Cricket\n",
      "Indians watch Baseball\n",
      "Indians watch Cricket\n"
     ]
    }
   ],
   "source": [
    "# Q. 2. Implement a Python program to generate all sentences where subject is in\n",
    "#       [\"Americans\", \"Indians\"] and verb is in [\"Play\", \"watch\"] and the object is in\n",
    "#       [\"Baseball\",\"cricket\"].\n",
    "\n",
    "\n",
    "# subjects=[\"Americans \",\"Indians\"]\n",
    "# verbs=[\"play\",\"watch\"]\n",
    "# objects=[\"Baseball\",\"Cricket\"]\n",
    "\n",
    "\n",
    "# Output should come as below:\n",
    "\n",
    "# Americans play Baseball.\n",
    "# Americans play Cricket.\n",
    "# Americans watch Baseball.\n",
    "# Americans watch Cricket.\n",
    "# Indians play Baseball.\n",
    "# Indians play Cricket.\n",
    "# Indians watch Baseball.\n",
    "# Indians watch Cricket.\n",
    "\n",
    "\n",
    "subjects=[\"Americans \",\"Indians\"]\n",
    "verbs=[\"play\",\"watch\"]\n",
    "objects=[\"Baseball\",\"Cricket\"]\n",
    "\n",
    "All_Sentences = [(sub + ' ' + ver + ' ' + obj)for sub in subjects for ver in verbs for obj in objects]\n",
    "for sentences in All_Sentences:\n",
    "    print(sentences)"
   ]
  },
  {
   "cell_type": "code",
   "execution_count": null,
   "metadata": {},
   "outputs": [],
   "source": []
  }
 ],
 "metadata": {
  "kernelspec": {
   "display_name": "Python 3",
   "language": "python",
   "name": "python3"
  },
  "language_info": {
   "codemirror_mode": {
    "name": "ipython",
    "version": 3
   },
   "file_extension": ".py",
   "mimetype": "text/x-python",
   "name": "python",
   "nbconvert_exporter": "python",
   "pygments_lexer": "ipython3",
   "version": "3.7.6"
  }
 },
 "nbformat": 4,
 "nbformat_minor": 4
}
