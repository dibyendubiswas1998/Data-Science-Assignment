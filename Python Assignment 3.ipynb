{
 "cells": [
  {
   "cell_type": "markdown",
   "metadata": {},
   "source": [
    "# Python Assignment 3"
   ]
  },
  {
   "cell_type": "code",
   "execution_count": 2,
   "metadata": {},
   "outputs": [
    {
     "name": "stdout",
     "output_type": "stream",
     "text": [
      "Using_lambda_function, get sum value:  191\n",
      "Using_own_add_function, get sum value:  15\n"
     ]
    }
   ],
   "source": [
    "# 1.1  Write a Python Program to implement your own myreduce() function which works exactly\n",
    "#      like Python's built-in function reduce()\n",
    "\n",
    "\n",
    "def Myreduce(function, newlist):\n",
    "    x = newlist[0]\n",
    "    for i in range(1, len(newlist)):\n",
    "        x = function(x, newlist[i])\n",
    "    return x\n",
    "    \n",
    "def add(a, b):\n",
    "    return a + b\n",
    "\n",
    "lst = np.arange(1, 6)\n",
    "lst1 = [47, 11, 42, 13, 78]\n",
    "\n",
    "Using_own_add_func = Myreduce(add, lst)\n",
    "Using_lmbda_func = Myreduce(lambda x, y: x+y, lst1)\n",
    "\n",
    "print('Using_lambda_function, get sum value: ', Using_lmbda_func)\n",
    "print('Using_own_add_function, get sum value: ', Using_own_add_func)"
   ]
  },
  {
   "cell_type": "code",
   "execution_count": 3,
   "metadata": {},
   "outputs": [
    {
     "name": "stdout",
     "output_type": "stream",
     "text": [
      "Using_lambda_function, get even value:  [2, 4, 6, 8, 10, 12, 14, 16, 18, 20]\n",
      "Using_own_even_function, get even value:  [2, 4, 6, 8, 10, 12, 14, 16, 18, 20]\n"
     ]
    }
   ],
   "source": [
    "# 1.2  Write a Python program to implement your own myfilter() function which works exactly\n",
    "#      like Python's built-in function filter()\n",
    "\n",
    "\n",
    "def MyFilter(function, newlist):\n",
    "    x = []\n",
    "    for i in newlist[1: ]:\n",
    "        if function(i):\n",
    "            x.append(i)\n",
    "    return x\n",
    "\n",
    "lst_1 = range(1, 21)\n",
    "\n",
    "def even(n):\n",
    "    if n % 2 == 0:\n",
    "        return True\n",
    "    \n",
    "Using_own_even_func = MyFilter(even, lst_1)\n",
    "Using_lmbda_func = MyFilter(lambda x: x%2 == 0, lst_1)\n",
    "\n",
    "print('Using_lambda_function, get even value: ', Using_lmbda_func)\n",
    "print('Using_own_even_function, get even value: ', Using_own_even_func)"
   ]
  },
  {
   "cell_type": "code",
   "execution_count": 4,
   "metadata": {},
   "outputs": [
    {
     "name": "stdout",
     "output_type": "stream",
     "text": [
      "['x', 'xx', 'xxx', 'xxxx', 'y', 'yy', 'yyy', 'yyyy', 'z', 'zz', 'zzz', 'zzzz']\n"
     ]
    }
   ],
   "source": [
    "# 2.  Implement List comprehensions to produce the following lists.\n",
    "#     Write List comprehensions to produce the following Lists\n",
    "\n",
    "# (2.a) ['x', 'xx', 'xxx', 'xxxx', 'y', 'yy', 'yyy', 'yyyy', 'z', 'zz', 'zzz', 'zzzz']\n",
    "\n",
    "# (Ans.(2.a))\n",
    "\n",
    "lst1 = list('xyz')\n",
    "bl_lst1 = []\n",
    "for item in lst1:\n",
    "    for i in range(1, 5):\n",
    "        bl_lst1.append(item * i)\n",
    "print(bl_lst1)\n",
    "\n",
    "# new_List = [item * i for item in lst1 for i in range(1, 5)]\n",
    "# new_List"
   ]
  },
  {
   "cell_type": "code",
   "execution_count": 5,
   "metadata": {},
   "outputs": [
    {
     "name": "stdout",
     "output_type": "stream",
     "text": [
      "['x', 'xx', 'xx', 'xxxx', 'y', 'yy', 'yy', 'yyyy', 'z', 'zz', 'zz', 'zzzz']\n"
     ]
    }
   ],
   "source": [
    "# (2.b) ['x', 'y', 'z', 'xx', 'yy', 'zz', 'xxx', 'yyy', 'zzz', 'xxxx', 'yyyy', 'zzzz']\n",
    "\n",
    "# (Ans.(2.b)) \n",
    "\n",
    "lst1 = list('xyz')\n",
    "bl_lst1 = []\n",
    "for item in lst1:\n",
    "    for i in range(1, 3):\n",
    "        for j in range(1, 3):\n",
    "            bl_lst1.append(item * i * j)\n",
    "print(bl_lst1)\n",
    "\n",
    "# new_List = [item * i * j for item in lst1 for i in range(1, 3) for j in range(1, 3)]\n",
    "# new_List"
   ]
  },
  {
   "cell_type": "code",
   "execution_count": 6,
   "metadata": {
    "scrolled": true
   },
   "outputs": [
    {
     "name": "stdout",
     "output_type": "stream",
     "text": [
      "[[2], [3], [4], [3], [4], [5], [4], [5], [6]]\n"
     ]
    }
   ],
   "source": [
    "# (2.c) [[2], [3], [4], [3], [4], [5], [4], [5], [6]]\n",
    "\n",
    "# (Ans.(2.c)) \n",
    "\n",
    "List = []\n",
    "\n",
    "for i in range(3):\n",
    "    for j in range(2, 5):\n",
    "        List.append([i+j])\n",
    "print(List)\n",
    "\n",
    "# new_List = [[i + j] for i in range(3) for j in range(2, 5)]\n",
    "# new_List"
   ]
  },
  {
   "cell_type": "code",
   "execution_count": 7,
   "metadata": {},
   "outputs": [
    {
     "name": "stdout",
     "output_type": "stream",
     "text": [
      "[[2, 3, 4, 5], [3, 4, 5, 6], [4, 5, 6, 7], [5, 6, 7, 8]]\n"
     ]
    }
   ],
   "source": [
    "# (2.d) [[2, 3, 4, 5], [3, 4, 5, 6], [4, 5, 6, 7], [5, 6, 7, 8]]\n",
    "\n",
    "# Ans.(2.d)\n",
    "\n",
    "lst = [2, 3, 4, 5]\n",
    "print([list(map(lambda x: x+j, lst)) for j in range(4)])"
   ]
  },
  {
   "cell_type": "code",
   "execution_count": 8,
   "metadata": {},
   "outputs": [
    {
     "name": "stdout",
     "output_type": "stream",
     "text": [
      "[(1, 1), (1, 2), (1, 3), (2, 1), (2, 2), (2, 3), (3, 1), (3, 2), (3, 3)]\n"
     ]
    }
   ],
   "source": [
    "# (2.e) [(1, 1), (2, 1), (3, 1), (1, 2), (2, 2), (3, 2), (1, 3), (2, 3), (3, 3)]\n",
    "\n",
    "# (Ans.(2.e))\n",
    "\n",
    "List = []\n",
    "for i in range(1,4):\n",
    "    for j in range(1, 4):\n",
    "        List.append((i,j))\n",
    "print(List)\n",
    "\n",
    "# new_list = [(i, j) for i in range(1,4) for j in range(1,4)]\n",
    "# new_list"
   ]
  }
 ],
 "metadata": {
  "kernelspec": {
   "display_name": "Python 3",
   "language": "python",
   "name": "python3"
  },
  "language_info": {
   "codemirror_mode": {
    "name": "ipython",
    "version": 3
   },
   "file_extension": ".py",
   "mimetype": "text/x-python",
   "name": "python",
   "nbconvert_exporter": "python",
   "pygments_lexer": "ipython3",
   "version": "3.7.6"
  }
 },
 "nbformat": 4,
 "nbformat_minor": 4
}
